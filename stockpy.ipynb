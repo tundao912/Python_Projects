{
  "nbformat": 4,
  "nbformat_minor": 0,
  "metadata": {
    "colab": {
      "name": "stockpy.ipynb",
      "provenance": [],
      "mount_file_id": "1kvJoYir3aPgiI-EcRMZcO-k-ImHAD7OS",
      "authorship_tag": "ABX9TyPnlIfR0jF/cBmB+CM2P1qC",
      "include_colab_link": true
    },
    "kernelspec": {
      "name": "python3",
      "display_name": "Python 3"
    }
  },
  "cells": [
    {
      "cell_type": "markdown",
      "metadata": {
        "id": "view-in-github",
        "colab_type": "text"
      },
      "source": [
        "<a href=\"https://colab.research.google.com/github/tundao912/Python_Projects/blob/master/stockpy.ipynb\" target=\"_parent\"><img src=\"https://colab.research.google.com/assets/colab-badge.svg\" alt=\"Open In Colab\"/></a>"
      ]
    },
    {
      "cell_type": "code",
      "metadata": {
        "id": "XghIeTQ80TtC"
      },
      "source": [
        "import math\n",
        "import datetime\n",
        "import pandas_datareader as web\n",
        "import numpy as np\n",
        "import pandas as pd\n",
        "from sklearn.preprocessing import MinMaxScaler\n",
        "from keras.models import Sequential\n",
        "from keras.layers import Dense, LSTM\n",
        "import matplotlib.pyplot as plt\n",
        "plt.style.use(\"fivethirtyeight\")\n",
        "%matplotlib inline"
      ],
      "execution_count": 133,
      "outputs": []
    },
    {
      "cell_type": "code",
      "metadata": {
        "colab": {
          "base_uri": "https://localhost:8080/"
        },
        "id": "dy_ACq0tN31f",
        "outputId": "61be42a8-a780-4d41-fbc1-f47bc41e8409"
      },
      "source": [
        "%cd /content/drive/MyDrive/Colab Notebooks\n"
      ],
      "execution_count": 125,
      "outputs": [
        {
          "output_type": "stream",
          "text": [
            "/content/drive/MyDrive/Colab Notebooks\n"
          ],
          "name": "stdout"
        }
      ]
    },
    {
      "cell_type": "code",
      "metadata": {
        "colab": {
          "base_uri": "https://localhost:8080/",
          "height": 419
        },
        "id": "Bgk5__ti1fRl",
        "outputId": "b9212624-dc08-4241-89bc-3ca5592208c3"
      },
      "source": [
        "#df = web.DataReader('AAPL', data_source='yahoo', start='2012-01-01',end='2021-02-23')\n",
        "df = pd.read_csv('mbb.csv')\n",
        "df.columns = ['Ticker', 'Date', 'Open', 'High', 'Low', 'Close', 'Volumn']\n",
        "#df['NewDate'] = pd.to_datetime((df.Date).apply(str),format='%Y%m%d')\n",
        "df.sort_values(by='Date', inplace=True, ascending=True)\n",
        "df.reset_index(drop=True, inplace=True)\n",
        "df"
      ],
      "execution_count": 141,
      "outputs": [
        {
          "output_type": "execute_result",
          "data": {
            "text/html": [
              "<div>\n",
              "<style scoped>\n",
              "    .dataframe tbody tr th:only-of-type {\n",
              "        vertical-align: middle;\n",
              "    }\n",
              "\n",
              "    .dataframe tbody tr th {\n",
              "        vertical-align: top;\n",
              "    }\n",
              "\n",
              "    .dataframe thead th {\n",
              "        text-align: right;\n",
              "    }\n",
              "</style>\n",
              "<table border=\"1\" class=\"dataframe\">\n",
              "  <thead>\n",
              "    <tr style=\"text-align: right;\">\n",
              "      <th></th>\n",
              "      <th>Ticker</th>\n",
              "      <th>Date</th>\n",
              "      <th>Open</th>\n",
              "      <th>High</th>\n",
              "      <th>Low</th>\n",
              "      <th>Close</th>\n",
              "      <th>Volumn</th>\n",
              "    </tr>\n",
              "  </thead>\n",
              "  <tbody>\n",
              "    <tr>\n",
              "      <th>0</th>\n",
              "      <td>MBB</td>\n",
              "      <td>20111101</td>\n",
              "      <td>4.8796</td>\n",
              "      <td>4.8796</td>\n",
              "      <td>4.6440</td>\n",
              "      <td>4.6440</td>\n",
              "      <td>2719290</td>\n",
              "    </tr>\n",
              "    <tr>\n",
              "      <th>1</th>\n",
              "      <td>MBB</td>\n",
              "      <td>20111102</td>\n",
              "      <td>4.5767</td>\n",
              "      <td>4.6440</td>\n",
              "      <td>4.4421</td>\n",
              "      <td>4.4421</td>\n",
              "      <td>1255220</td>\n",
              "    </tr>\n",
              "    <tr>\n",
              "      <th>2</th>\n",
              "      <td>MBB</td>\n",
              "      <td>20111103</td>\n",
              "      <td>4.3748</td>\n",
              "      <td>4.4421</td>\n",
              "      <td>4.2402</td>\n",
              "      <td>4.4084</td>\n",
              "      <td>1193910</td>\n",
              "    </tr>\n",
              "    <tr>\n",
              "      <th>3</th>\n",
              "      <td>MBB</td>\n",
              "      <td>20111104</td>\n",
              "      <td>4.4421</td>\n",
              "      <td>4.4421</td>\n",
              "      <td>4.3411</td>\n",
              "      <td>4.3411</td>\n",
              "      <td>483860</td>\n",
              "    </tr>\n",
              "    <tr>\n",
              "      <th>4</th>\n",
              "      <td>MBB</td>\n",
              "      <td>20111107</td>\n",
              "      <td>4.3411</td>\n",
              "      <td>4.3411</td>\n",
              "      <td>4.1392</td>\n",
              "      <td>4.1392</td>\n",
              "      <td>1158750</td>\n",
              "    </tr>\n",
              "    <tr>\n",
              "      <th>...</th>\n",
              "      <td>...</td>\n",
              "      <td>...</td>\n",
              "      <td>...</td>\n",
              "      <td>...</td>\n",
              "      <td>...</td>\n",
              "      <td>...</td>\n",
              "      <td>...</td>\n",
              "    </tr>\n",
              "    <tr>\n",
              "      <th>2319</th>\n",
              "      <td>MBB</td>\n",
              "      <td>20210219</td>\n",
              "      <td>26.8500</td>\n",
              "      <td>27.4000</td>\n",
              "      <td>25.8000</td>\n",
              "      <td>26.8500</td>\n",
              "      <td>30003300</td>\n",
              "    </tr>\n",
              "    <tr>\n",
              "      <th>2320</th>\n",
              "      <td>MBB</td>\n",
              "      <td>20210222</td>\n",
              "      <td>26.8500</td>\n",
              "      <td>27.1500</td>\n",
              "      <td>26.3000</td>\n",
              "      <td>26.7000</td>\n",
              "      <td>19791100</td>\n",
              "    </tr>\n",
              "    <tr>\n",
              "      <th>2321</th>\n",
              "      <td>MBB</td>\n",
              "      <td>20210223</td>\n",
              "      <td>26.7500</td>\n",
              "      <td>27.5000</td>\n",
              "      <td>26.6000</td>\n",
              "      <td>27.4000</td>\n",
              "      <td>31587900</td>\n",
              "    </tr>\n",
              "    <tr>\n",
              "      <th>2322</th>\n",
              "      <td>MBB</td>\n",
              "      <td>20210224</td>\n",
              "      <td>27.6500</td>\n",
              "      <td>27.8000</td>\n",
              "      <td>26.9000</td>\n",
              "      <td>27.0000</td>\n",
              "      <td>19888900</td>\n",
              "    </tr>\n",
              "    <tr>\n",
              "      <th>2323</th>\n",
              "      <td>MBB</td>\n",
              "      <td>20210225</td>\n",
              "      <td>27.3000</td>\n",
              "      <td>27.4500</td>\n",
              "      <td>26.8500</td>\n",
              "      <td>27.3000</td>\n",
              "      <td>17887600</td>\n",
              "    </tr>\n",
              "  </tbody>\n",
              "</table>\n",
              "<p>2324 rows × 7 columns</p>\n",
              "</div>"
            ],
            "text/plain": [
              "     Ticker      Date     Open     High      Low    Close    Volumn\n",
              "0       MBB  20111101   4.8796   4.8796   4.6440   4.6440   2719290\n",
              "1       MBB  20111102   4.5767   4.6440   4.4421   4.4421   1255220\n",
              "2       MBB  20111103   4.3748   4.4421   4.2402   4.4084   1193910\n",
              "3       MBB  20111104   4.4421   4.4421   4.3411   4.3411    483860\n",
              "4       MBB  20111107   4.3411   4.3411   4.1392   4.1392   1158750\n",
              "...     ...       ...      ...      ...      ...      ...       ...\n",
              "2319    MBB  20210219  26.8500  27.4000  25.8000  26.8500  30003300\n",
              "2320    MBB  20210222  26.8500  27.1500  26.3000  26.7000  19791100\n",
              "2321    MBB  20210223  26.7500  27.5000  26.6000  27.4000  31587900\n",
              "2322    MBB  20210224  27.6500  27.8000  26.9000  27.0000  19888900\n",
              "2323    MBB  20210225  27.3000  27.4500  26.8500  27.3000  17887600\n",
              "\n",
              "[2324 rows x 7 columns]"
            ]
          },
          "metadata": {
            "tags": []
          },
          "execution_count": 141
        }
      ]
    },
    {
      "cell_type": "code",
      "metadata": {
        "colab": {
          "base_uri": "https://localhost:8080/"
        },
        "id": "hVgnS_Dj200u",
        "outputId": "40c298dc-77fe-4a48-ec0f-200315289a92"
      },
      "source": [
        "df.shape"
      ],
      "execution_count": 142,
      "outputs": [
        {
          "output_type": "execute_result",
          "data": {
            "text/plain": [
              "(2324, 7)"
            ]
          },
          "metadata": {
            "tags": []
          },
          "execution_count": 142
        }
      ]
    },
    {
      "cell_type": "code",
      "metadata": {
        "colab": {
          "base_uri": "https://localhost:8080/",
          "height": 381
        },
        "id": "7pxlnLlh1oZ_",
        "outputId": "d6ce4f55-c74a-4c8b-bd2e-5d8bd33729e0"
      },
      "source": [
        "plt.figure(figsize=(18,8))\n",
        "plt.title(\"Close Price History\")\n",
        "plt.plot(df['Close'])\n",
        "plt.xlabel('Date', fontsize=18)\n",
        "plt.ylabel('Close Price USD ($)', fontsize=18)\n",
        "plt.show()"
      ],
      "execution_count": 143,
      "outputs": [
        {
          "output_type": "display_data",
          "data": {
            "image/png": "[encoded data removed]",
            "text/plain": [
              "<Figure size 1296x576 with 1 Axes>"
            ]
          },
          "metadata": {
            "tags": [],
            "needs_background": "light"
          }
        }
      ]
    },
    {
      "cell_type": "code",
      "metadata": {
        "colab": {
          "base_uri": "https://localhost:8080/"
        },
        "id": "Mu2mVYVt3GT9",
        "outputId": "e21a1fd9-5f8d-4caa-988d-85a6c8769311"
      },
      "source": [
        "data=df.filter(['Close'])\n",
        "dataset = data.values\n",
        "train_data_len = math.ceil(len(dataset) * .8)\n",
        "train_data_len"
      ],
      "execution_count": 144,
      "outputs": [
        {
          "output_type": "execute_result",
          "data": {
            "text/plain": [
              "1860"
            ]
          },
          "metadata": {
            "tags": []
          },
          "execution_count": 144
        }
      ]
    },
    {
      "cell_type": "code",
      "metadata": {
        "colab": {
          "base_uri": "https://localhost:8080/"
        },
        "id": "5ozrnKLn3xju",
        "outputId": "cd0d66c2-657d-4840-c738-cae242717ecf"
      },
      "source": [
        "scaler = MinMaxScaler(feature_range=(0,1))\n",
        "scaled_data = scaler.fit_transform(dataset)\n",
        "\n",
        "scaled_data"
      ],
      "execution_count": 145,
      "outputs": [
        {
          "output_type": "execute_result",
          "data": {
            "text/plain": [
              "array([[0.03170902],\n",
              "       [0.02311797],\n",
              "       [0.021684  ],\n",
              "       ...,\n",
              "       [1.        ],\n",
              "       [0.98297959],\n",
              "       [0.9957449 ]])"
            ]
          },
          "metadata": {
            "tags": []
          },
          "execution_count": 145
        }
      ]
    },
    {
      "cell_type": "code",
      "metadata": {
        "colab": {
          "base_uri": "https://localhost:8080/"
        },
        "id": "Jh65naFc79Bh",
        "outputId": "eb62647b-b91c-42da-d73a-45614aaaf563"
      },
      "source": [
        "train_data = scaled_data[0:train_data_len, :]\n",
        "\n",
        "x_train= []\n",
        "y_train= []\n",
        "\n",
        "for i in range(60, len(train_data)):\n",
        "  x_train.append(train_data[i-60: i, 0])\n",
        "  y_train.append(train_data[i,0])\n",
        "  if i <= 61:\n",
        "    print(x_train)\n",
        "    print(y_train)\n",
        "    print()"
      ],
      "execution_count": 146,
      "outputs": [
        {
          "output_type": "stream",
          "text": [
            "[array([0.03170902, 0.02311797, 0.021684  , 0.01882032, 0.01022926,\n",
            "       0.00593161, 0.00020424, 0.00306793, 0.00593161, 0.0045019 ,\n",
            "       0.00306793, 0.0045019 , 0.0045019 , 0.00593161, 0.01165898,\n",
            "       0.0173906 , 0.01595663, 0.01165898, 0.01022926, 0.01452692,\n",
            "       0.0173906 , 0.01309295, 0.01595663, 0.01595663, 0.02025428,\n",
            "       0.0173906 , 0.01896073, 0.01738209, 0.01422055, 0.01579919,\n",
            "       0.01422055, 0.01264191, 0.01264191, 0.01264191, 0.01264191,\n",
            "       0.01264191, 0.01422055, 0.01105901, 0.00948037, 0.00790172,\n",
            "       0.        , 0.0015829 , 0.00474018, 0.00474018, 0.00631883,\n",
            "       0.00631883, 0.00316154, 0.00316154, 0.00474018, 0.00790172,\n",
            "       0.00948037, 0.01264191, 0.01579919, 0.02053938, 0.01579919,\n",
            "       0.01579919, 0.02212227, 0.02053938, 0.02370092, 0.02527956])]\n",
            "[0.02370091739996258]\n",
            "\n",
            "[array([0.03170902, 0.02311797, 0.021684  , 0.01882032, 0.01022926,\n",
            "       0.00593161, 0.00020424, 0.00306793, 0.00593161, 0.0045019 ,\n",
            "       0.00306793, 0.0045019 , 0.0045019 , 0.00593161, 0.01165898,\n",
            "       0.0173906 , 0.01595663, 0.01165898, 0.01022926, 0.01452692,\n",
            "       0.0173906 , 0.01309295, 0.01595663, 0.01595663, 0.02025428,\n",
            "       0.0173906 , 0.01896073, 0.01738209, 0.01422055, 0.01579919,\n",
            "       0.01422055, 0.01264191, 0.01264191, 0.01264191, 0.01264191,\n",
            "       0.01264191, 0.01422055, 0.01105901, 0.00948037, 0.00790172,\n",
            "       0.        , 0.0015829 , 0.00474018, 0.00474018, 0.00631883,\n",
            "       0.00631883, 0.00316154, 0.00316154, 0.00474018, 0.00790172,\n",
            "       0.00948037, 0.01264191, 0.01579919, 0.02053938, 0.01579919,\n",
            "       0.01579919, 0.02212227, 0.02053938, 0.02370092, 0.02527956]), array([0.02311797, 0.021684  , 0.01882032, 0.01022926, 0.00593161,\n",
            "       0.00020424, 0.00306793, 0.00593161, 0.0045019 , 0.00306793,\n",
            "       0.0045019 , 0.0045019 , 0.00593161, 0.01165898, 0.0173906 ,\n",
            "       0.01595663, 0.01165898, 0.01022926, 0.01452692, 0.0173906 ,\n",
            "       0.01309295, 0.01595663, 0.01595663, 0.02025428, 0.0173906 ,\n",
            "       0.01896073, 0.01738209, 0.01422055, 0.01579919, 0.01422055,\n",
            "       0.01264191, 0.01264191, 0.01264191, 0.01264191, 0.01264191,\n",
            "       0.01422055, 0.01105901, 0.00948037, 0.00790172, 0.        ,\n",
            "       0.0015829 , 0.00474018, 0.00474018, 0.00631883, 0.00631883,\n",
            "       0.00316154, 0.00316154, 0.00474018, 0.00790172, 0.00948037,\n",
            "       0.01264191, 0.01579919, 0.02053938, 0.01579919, 0.01579919,\n",
            "       0.02212227, 0.02053938, 0.02370092, 0.02527956, 0.02370092])]\n",
            "[0.02370091739996258, 0.033181284359947605]\n",
            "\n"
          ],
          "name": "stdout"
        }
      ]
    },
    {
      "cell_type": "code",
      "metadata": {
        "id": "sR3Vs5Rh_yi9"
      },
      "source": [
        "x_train, y_train = np.array(x_train), np.array(y_train)"
      ],
      "execution_count": 147,
      "outputs": []
    },
    {
      "cell_type": "code",
      "metadata": {
        "colab": {
          "base_uri": "https://localhost:8080/"
        },
        "id": "yf50HGOpATQM",
        "outputId": "d8748bfb-5a61-4501-e0c3-fdd642c5be64"
      },
      "source": [
        "x_train = np.reshape(x_train, (x_train.shape[0], x_train.shape[1], 1))\n",
        "\n",
        "x_train.shape"
      ],
      "execution_count": 148,
      "outputs": [
        {
          "output_type": "execute_result",
          "data": {
            "text/plain": [
              "(1800, 60, 1)"
            ]
          },
          "metadata": {
            "tags": []
          },
          "execution_count": 148
        }
      ]
    },
    {
      "cell_type": "code",
      "metadata": {
        "id": "OX5X9GHTAlyL"
      },
      "source": [
        "model = Sequential()\n",
        "\n",
        "model.add(LSTM(50, return_sequences=True, input_shape = (x_train.shape[1], 1)))\n",
        "model.add(LSTM(50, return_sequences=False))\n",
        "model.add(Dense(25))\n",
        "model.add(Dense(1))"
      ],
      "execution_count": 149,
      "outputs": []
    },
    {
      "cell_type": "code",
      "metadata": {
        "id": "M1i2OjJXBwUb"
      },
      "source": [
        "model.compile(optimizer='adam', loss='mean_squared_error')"
      ],
      "execution_count": 150,
      "outputs": []
    },
    {
      "cell_type": "code",
      "metadata": {
        "colab": {
          "base_uri": "https://localhost:8080/"
        },
        "id": "CVBtP85qCEiw",
        "outputId": "9bb48235-db51-4cdd-e179-ea6dd7056266"
      },
      "source": [
        "model.fit(x_train, y_train, batch_size=1, epochs=1)"
      ],
      "execution_count": 151,
      "outputs": [
        {
          "output_type": "stream",
          "text": [
            "1800/1800 [==============================] - 49s 26ms/step - loss: 0.0024\n"
          ],
          "name": "stdout"
        },
        {
          "output_type": "execute_result",
          "data": {
            "text/plain": [
              "<tensorflow.python.keras.callbacks.History at 0x7f3690590cd0>"
            ]
          },
          "metadata": {
            "tags": []
          },
          "execution_count": 151
        }
      ]
    },
    {
      "cell_type": "code",
      "metadata": {
        "id": "01gYd_eLCu_I"
      },
      "source": [
        "test_data= scaled_data[train_data_len - 60 : , :]\n",
        "\n",
        "x_test = []\n",
        "y_test = dataset[train_data_len:, :]\n",
        "\n",
        "for i in range(60, len(test_data)):\n",
        "  x_test.append(test_data[i-60: i, 0])"
      ],
      "execution_count": 152,
      "outputs": []
    },
    {
      "cell_type": "code",
      "metadata": {
        "id": "0AOwsDX8DpeU"
      },
      "source": [
        "x_test = np.array(x_test)"
      ],
      "execution_count": 153,
      "outputs": []
    },
    {
      "cell_type": "code",
      "metadata": {
        "id": "qVTZhcoSDvIe"
      },
      "source": [
        "x_test = np.reshape(x_test, (x_test.shape[0], x_test.shape[1], 1))\n"
      ],
      "execution_count": 154,
      "outputs": []
    },
    {
      "cell_type": "code",
      "metadata": {
        "id": "GMuhscyCD9Xb"
      },
      "source": [
        "predictions = model.predict(x_test)\n",
        "predictions = scaler.inverse_transform(predictions)"
      ],
      "execution_count": 155,
      "outputs": []
    },
    {
      "cell_type": "code",
      "metadata": {
        "colab": {
          "base_uri": "https://localhost:8080/"
        },
        "id": "-cK8DCoaEUWV",
        "outputId": "cd79f4af-b17c-4a80-95e5-6d1273905a87"
      },
      "source": [
        "rmse = np.sqrt(np.mean(predictions - y_test)**2)\n",
        "\n",
        "rmse"
      ],
      "execution_count": 156,
      "outputs": [
        {
          "output_type": "execute_result",
          "data": {
            "text/plain": [
              "1.1124082673862064"
            ]
          },
          "metadata": {
            "tags": []
          },
          "execution_count": 156
        }
      ]
    },
    {
      "cell_type": "code",
      "metadata": {
        "colab": {
          "base_uri": "https://localhost:8080/",
          "height": 503
        },
        "id": "jBZgelo8Et7S",
        "outputId": "80d40919-f974-477c-ba8e-61e7e055dad6"
      },
      "source": [
        "train = data[:train_data_len]\n",
        "valid = data[train_data_len:]\n",
        "\n",
        "valid[\"Predictions\"] = predictions\n",
        "plt.figure(figsize=(18,8))\n",
        "plt.title(\"Model\")\n",
        "plt.plot(train['Close'])\n",
        "plt.plot(valid[['Close','Predictions']])\n",
        "plt.xlabel('Date', fontsize=18)\n",
        "plt.ylabel('Close Price USD ($)', fontsize=18)\n",
        "plt.legend(['Train', 'Val', 'Predictions'], loc = 'lower right')\n",
        "plt.show()\n"
      ],
      "execution_count": 157,
      "outputs": [
        {
          "output_type": "stream",
          "text": [
            "/usr/local/lib/python3.7/dist-packages/ipykernel_launcher.py:4: SettingWithCopyWarning: \n",
            "A value is trying to be set on a copy of a slice from a DataFrame.\n",
            "Try using .loc[row_indexer,col_indexer] = value instead\n",
            "\n",
            "See the caveats in the documentation: https://pandas.pydata.org/pandas-docs/stable/user_guide/indexing.html#returning-a-view-versus-a-copy\n",
            "  after removing the cwd from sys.path.\n"
          ],
          "name": "stderr"
        },
        {
          "output_type": "display_data",
          "data": {
            "image/png": "[encoded data removed]",
            "text/plain": [
              "<Figure size 1296x576 with 1 Axes>"
            ]
          },
          "metadata": {
            "tags": [],
            "needs_background": "light"
          }
        }
      ]
    },
    {
      "cell_type": "code",
      "metadata": {
        "colab": {
          "base_uri": "https://localhost:8080/",
          "height": 419
        },
        "id": "D14PDaXbF3kf",
        "outputId": "860321b3-e826-4107-f0e5-5bd9712533d5"
      },
      "source": [
        "valid"
      ],
      "execution_count": 158,
      "outputs": [
        {
          "output_type": "execute_result",
          "data": {
            "text/html": [
              "<div>\n",
              "<style scoped>\n",
              "    .dataframe tbody tr th:only-of-type {\n",
              "        vertical-align: middle;\n",
              "    }\n",
              "\n",
              "    .dataframe tbody tr th {\n",
              "        vertical-align: top;\n",
              "    }\n",
              "\n",
              "    .dataframe thead th {\n",
              "        text-align: right;\n",
              "    }\n",
              "</style>\n",
              "<table border=\"1\" class=\"dataframe\">\n",
              "  <thead>\n",
              "    <tr style=\"text-align: right;\">\n",
              "      <th></th>\n",
              "      <th>Close</th>\n",
              "      <th>Predictions</th>\n",
              "    </tr>\n",
              "  </thead>\n",
              "  <tbody>\n",
              "    <tr>\n",
              "      <th>1860</th>\n",
              "      <td>17.0732</td>\n",
              "      <td>18.576904</td>\n",
              "    </tr>\n",
              "    <tr>\n",
              "      <th>1861</th>\n",
              "      <td>16.9934</td>\n",
              "      <td>18.520327</td>\n",
              "    </tr>\n",
              "    <tr>\n",
              "      <th>1862</th>\n",
              "      <td>17.1530</td>\n",
              "      <td>18.458202</td>\n",
              "    </tr>\n",
              "    <tr>\n",
              "      <th>1863</th>\n",
              "      <td>17.1530</td>\n",
              "      <td>18.421637</td>\n",
              "    </tr>\n",
              "    <tr>\n",
              "      <th>1864</th>\n",
              "      <td>17.3923</td>\n",
              "      <td>18.399769</td>\n",
              "    </tr>\n",
              "    <tr>\n",
              "      <th>...</th>\n",
              "      <td>...</td>\n",
              "      <td>...</td>\n",
              "    </tr>\n",
              "    <tr>\n",
              "      <th>2319</th>\n",
              "      <td>26.8500</td>\n",
              "      <td>25.930744</td>\n",
              "    </tr>\n",
              "    <tr>\n",
              "      <th>2320</th>\n",
              "      <td>26.7000</td>\n",
              "      <td>26.349730</td>\n",
              "    </tr>\n",
              "    <tr>\n",
              "      <th>2321</th>\n",
              "      <td>27.4000</td>\n",
              "      <td>26.717438</td>\n",
              "    </tr>\n",
              "    <tr>\n",
              "      <th>2322</th>\n",
              "      <td>27.0000</td>\n",
              "      <td>27.110624</td>\n",
              "    </tr>\n",
              "    <tr>\n",
              "      <th>2323</th>\n",
              "      <td>27.3000</td>\n",
              "      <td>27.402504</td>\n",
              "    </tr>\n",
              "  </tbody>\n",
              "</table>\n",
              "<p>464 rows × 2 columns</p>\n",
              "</div>"
            ],
            "text/plain": [
              "        Close  Predictions\n",
              "1860  17.0732    18.576904\n",
              "1861  16.9934    18.520327\n",
              "1862  17.1530    18.458202\n",
              "1863  17.1530    18.421637\n",
              "1864  17.3923    18.399769\n",
              "...       ...          ...\n",
              "2319  26.8500    25.930744\n",
              "2320  26.7000    26.349730\n",
              "2321  27.4000    26.717438\n",
              "2322  27.0000    27.110624\n",
              "2323  27.3000    27.402504\n",
              "\n",
              "[464 rows x 2 columns]"
            ]
          },
          "metadata": {
            "tags": []
          },
          "execution_count": 158
        }
      ]
    },
    {
      "cell_type": "code",
      "metadata": {
        "colab": {
          "base_uri": "https://localhost:8080/"
        },
        "id": "qbdze2GEGVmb",
        "outputId": "6f13b483-f9c8-4549-a3cb-29a651a893aa"
      },
      "source": [
        "#apple_quote = web.DataReader('AAPL', data_source='yahoo', start='2012-01-01',end='2021-02-23')\n",
        "new_df = pd.read_csv('mbb.csv')\n",
        "new_df.columns = ['Ticker', 'Date', 'Open', 'High', 'Low', 'Close', 'Volumn']\n",
        "#df['NewDate'] = pd.to_datetime((df.Date).apply(str),format='%Y%m%d')\n",
        "new_df.sort_values(by='Date', inplace=True, ascending=True)\n",
        "new_df.reset_index(drop=True, inplace=True)\n",
        "new_df = new_df.filter(['Close'])\n",
        "last_60_days = new_df[-60:].values\n",
        "\n",
        "last_60_days_scaled = scaler.transform(last_60_days)\n",
        "X_test = []\n",
        "X_test.append(last_60_days_scaled)\n",
        "X_test = np.array(X_test)\n",
        "\n",
        "X_test = np.reshape(X_test, (X_test.shape[0], X_test.shape[1], 1))\n",
        "\n",
        "pred_price = model.predict(X_test)\n",
        "\n",
        "pred_price = scaler.inverse_transform(pred_price)\n",
        "\n",
        "print(pred_price)"
      ],
      "execution_count": 159,
      "outputs": [
        {
          "output_type": "stream",
          "text": [
            "[[27.658533]]\n"
          ],
          "name": "stdout"
        }
      ]
    },
    {
      "cell_type": "code",
      "metadata": {
        "colab": {
          "base_uri": "https://localhost:8080/"
        },
        "id": "2Po65RwIIk7_",
        "outputId": "a3cd39b8-c72b-4a04-87bf-9efd4d13117b"
      },
      "source": [
        "apple_quote2 = web.DataReader('AAPL', data_source='yahoo', start='2021-02-24',end='2021-02-24')\n",
        "print(apple_quote2['Close'])\n"
      ],
      "execution_count": 122,
      "outputs": [
        {
          "output_type": "stream",
          "text": [
            "Date\n",
            "2021-02-24    125.349998\n",
            "2021-02-24    125.349998\n",
            "Name: Close, dtype: float64\n"
          ],
          "name": "stdout"
        }
      ]
    }
  ]
}
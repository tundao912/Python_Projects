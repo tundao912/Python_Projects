{
  "nbformat": 4,
  "nbformat_minor": 0,
  "metadata": {
    "colab": {
      "name": "savenow.ipynb",
      "provenance": [],
      "mount_file_id": "1aqhWkBGa8Si4XEEjwJ2wvJLFW_MXoW9v",
      "authorship_tag": "ABX9TyOYYPgELyv4Pq0n0sPcgIQo",
      "include_colab_link": true
    },
    "kernelspec": {
      "name": "python3",
      "display_name": "Python 3"
    }
  },
  "cells": [
    {
      "cell_type": "markdown",
      "metadata": {
        "id": "view-in-github",
        "colab_type": "text"
      },
      "source": [
        "<a href=\"https://colab.research.google.com/github/tundao912/Python_Projects/blob/master/savenow.ipynb\" target=\"_parent\"><img src=\"https://colab.research.google.com/assets/colab-badge.svg\" alt=\"Open In Colab\"/></a>"
      ]
    },
    {
      "cell_type": "code",
      "metadata": {
        "colab": {
          "base_uri": "https://localhost:8080/"
        },
        "id": "BCa7SvcV_6-V",
        "outputId": "1d8518c2-0b64-42aa-a1c3-09e2f62041a9"
      },
      "source": [
        "!pip install scrapy"
      ],
      "execution_count": null,
      "outputs": [
        {
          "output_type": "stream",
          "text": [
            "Collecting scrapy\n",
            "\u001b[?25l  Downloading https://files.pythonhosted.org/packages/3a/16/3c7c37caf25f91aa21db194655515718c2a15f704f9f5c59a194f5c83db0/Scrapy-2.4.1-py2.py3-none-any.whl (239kB)\n",
            "\u001b[K     |████████████████████████████████| 245kB 5.9MB/s \n",
            "\u001b[?25hCollecting Twisted>=17.9.0\n",
            "\u001b[?25l  Downloading https://files.pythonhosted.org/packages/b8/f9/489416dda6de8ae6419356bf003c10d1ce6fb8377b6a3207b02b3a39c42a/Twisted-20.3.0-cp37-cp37m-manylinux1_x86_64.whl (3.1MB)\n",
            "\u001b[K     |████████████████████████████████| 3.1MB 25.8MB/s \n",
            "\u001b[?25hCollecting service-identity>=16.0.0\n",
            "  Downloading https://files.pythonhosted.org/packages/e9/7c/2195b890023e098f9618d43ebc337d83c8b38d414326685339eb024db2f6/service_identity-18.1.0-py2.py3-none-any.whl\n",
            "Collecting PyDispatcher>=2.0.5\n",
            "  Downloading https://files.pythonhosted.org/packages/cd/37/39aca520918ce1935bea9c356bcbb7ed7e52ad4e31bff9b943dfc8e7115b/PyDispatcher-2.0.5.tar.gz\n",
            "Collecting queuelib>=1.4.2\n",
            "  Downloading https://files.pythonhosted.org/packages/4c/85/ae64e9145f39dd6d14f8af3fa809a270ef3729f3b90b3c0cf5aa242ab0d4/queuelib-1.5.0-py2.py3-none-any.whl\n",
            "Requirement already satisfied: lxml>=3.5.0; platform_python_implementation == \"CPython\" in /usr/local/lib/python3.7/dist-packages (from scrapy) (4.2.6)\n",
            "Collecting pyOpenSSL>=16.2.0\n",
            "\u001b[?25l  Downloading https://files.pythonhosted.org/packages/b2/5e/06351ede29fd4899782ad335c2e02f1f862a887c20a3541f17c3fa1a3525/pyOpenSSL-20.0.1-py2.py3-none-any.whl (54kB)\n",
            "\u001b[K     |████████████████████████████████| 61kB 6.8MB/s \n",
            "\u001b[?25hCollecting zope.interface>=4.1.3\n",
            "\u001b[?25l  Downloading https://files.pythonhosted.org/packages/f8/42/d8f11eaef844bee267821281fffe445e49cf31b486d72a81821a9d45cd0a/zope.interface-5.2.0-cp37-cp37m-manylinux2010_x86_64.whl (237kB)\n",
            "\u001b[K     |████████████████████████████████| 245kB 51.9MB/s \n",
            "\u001b[?25hCollecting itemloaders>=1.0.1\n",
            "  Downloading https://files.pythonhosted.org/packages/b3/2b/eb2ddf7becf834679273a6f79ffdc6fbedf07c5272e2eddf412582143c0e/itemloaders-1.0.4-py3-none-any.whl\n",
            "Collecting w3lib>=1.17.0\n",
            "  Downloading https://files.pythonhosted.org/packages/a3/59/b6b14521090e7f42669cafdb84b0ab89301a42f1f1a82fcf5856661ea3a7/w3lib-1.22.0-py2.py3-none-any.whl\n",
            "Collecting cssselect>=0.9.1\n",
            "  Downloading https://files.pythonhosted.org/packages/3b/d4/3b5c17f00cce85b9a1e6f91096e1cc8e8ede2e1be8e96b87ce1ed09e92c5/cssselect-1.1.0-py2.py3-none-any.whl\n",
            "Collecting itemadapter>=0.1.0\n",
            "  Downloading https://files.pythonhosted.org/packages/88/83/ab33780fd93278e699561d61862d27343c95d3fe0a0081acd73e8e26a649/itemadapter-0.2.0-py3-none-any.whl\n",
            "Collecting protego>=0.1.15\n",
            "\u001b[?25l  Downloading https://files.pythonhosted.org/packages/db/6e/bf6d5e4d7cf233b785719aaec2c38f027b9c2ed980a0015ec1a1cced4893/Protego-0.1.16.tar.gz (3.2MB)\n",
            "\u001b[K     |████████████████████████████████| 3.2MB 49.6MB/s \n",
            "\u001b[?25hCollecting parsel>=1.5.0\n",
            "  Downloading https://files.pythonhosted.org/packages/23/1e/9b39d64cbab79d4362cdd7be7f5e9623d45c4a53b3f7522cd8210df52d8e/parsel-1.6.0-py2.py3-none-any.whl\n",
            "Collecting cryptography>=2.0\n",
            "\u001b[?25l  Downloading https://files.pythonhosted.org/packages/f8/1f/acde6ff69864c5e78b56488e3afd93c1ccc8c2651186e2a5f93d93f64859/cryptography-3.4.6-cp36-abi3-manylinux2014_x86_64.whl (3.2MB)\n",
            "\u001b[K     |████████████████████████████████| 3.2MB 51.7MB/s \n",
            "\u001b[?25hCollecting Automat>=0.3.0\n",
            "  Downloading https://files.pythonhosted.org/packages/dd/83/5f6f3c1a562674d65efc320257bdc0873ec53147835aeef7762fe7585273/Automat-20.2.0-py2.py3-none-any.whl\n",
            "Requirement already satisfied: attrs>=19.2.0 in /usr/local/lib/python3.7/dist-packages (from Twisted>=17.9.0->scrapy) (20.3.0)\n",
            "Collecting hyperlink>=17.1.1\n",
            "\u001b[?25l  Downloading https://files.pythonhosted.org/packages/6e/aa/8caf6a0a3e62863cbb9dab27135660acba46903b703e224f14f447e57934/hyperlink-21.0.0-py2.py3-none-any.whl (74kB)\n",
            "\u001b[K     |████████████████████████████████| 81kB 9.6MB/s \n",
            "\u001b[?25hCollecting PyHamcrest!=1.10.0,>=1.9.0\n",
            "\u001b[?25l  Downloading https://files.pythonhosted.org/packages/40/16/e54cc65891f01cb62893540f44ffd3e8dab0a22443e1b438f1a9f5574bee/PyHamcrest-2.0.2-py3-none-any.whl (52kB)\n",
            "\u001b[K     |████████████████████████████████| 61kB 7.1MB/s \n",
            "\u001b[?25hCollecting constantly>=15.1\n",
            "  Downloading https://files.pythonhosted.org/packages/b9/65/48c1909d0c0aeae6c10213340ce682db01b48ea900a7d9fce7a7910ff318/constantly-15.1.0-py2.py3-none-any.whl\n",
            "Collecting incremental>=16.10.1\n",
            "  Downloading https://files.pythonhosted.org/packages/f5/1d/c98a587dc06e107115cf4a58b49de20b19222c83d75335a192052af4c4b7/incremental-17.5.0-py2.py3-none-any.whl\n",
            "Requirement already satisfied: pyasn1-modules in /usr/local/lib/python3.7/dist-packages (from service-identity>=16.0.0->scrapy) (0.2.8)\n",
            "Requirement already satisfied: pyasn1 in /usr/local/lib/python3.7/dist-packages (from service-identity>=16.0.0->scrapy) (0.4.8)\n",
            "Requirement already satisfied: six>=1.5.2 in /usr/local/lib/python3.7/dist-packages (from pyOpenSSL>=16.2.0->scrapy) (1.15.0)\n",
            "Requirement already satisfied: setuptools in /usr/local/lib/python3.7/dist-packages (from zope.interface>=4.1.3->scrapy) (53.0.0)\n",
            "Collecting jmespath>=0.9.5\n",
            "  Downloading https://files.pythonhosted.org/packages/07/cb/5f001272b6faeb23c1c9e0acc04d48eaaf5c862c17709d20e3469c6e0139/jmespath-0.10.0-py2.py3-none-any.whl\n",
            "Requirement already satisfied: cffi>=1.12 in /usr/local/lib/python3.7/dist-packages (from cryptography>=2.0->scrapy) (1.14.5)\n",
            "Requirement already satisfied: idna>=2.5 in /usr/local/lib/python3.7/dist-packages (from hyperlink>=17.1.1->Twisted>=17.9.0->scrapy) (2.10)\n",
            "Requirement already satisfied: pycparser in /usr/local/lib/python3.7/dist-packages (from cffi>=1.12->cryptography>=2.0->scrapy) (2.20)\n",
            "Building wheels for collected packages: PyDispatcher, protego\n",
            "  Building wheel for PyDispatcher (setup.py) ... \u001b[?25l\u001b[?25hdone\n",
            "  Created wheel for PyDispatcher: filename=PyDispatcher-2.0.5-cp37-none-any.whl size=11517 sha256=6d059cb5d39f6b5d3c31a106935a6f2659723346de2cf67383a54e5515d23cee\n",
            "  Stored in directory: /root/.cache/pip/wheels/88/99/96/cfef6665f9cb1522ee6757ae5955feedf2fe25f1737f91fa7f\n",
            "  Building wheel for protego (setup.py) ... \u001b[?25l\u001b[?25hdone\n",
            "  Created wheel for protego: filename=Protego-0.1.16-cp37-none-any.whl size=7766 sha256=a1fbeeb6d19acc1944ed005f2686eca434eea3561b554ef9bb6479413d7eb132\n",
            "  Stored in directory: /root/.cache/pip/wheels/51/01/d1/4a2286a976dccd025ba679acacfe37320540df0f2283ecab12\n",
            "Successfully built PyDispatcher protego\n",
            "Installing collected packages: Automat, hyperlink, PyHamcrest, zope.interface, constantly, incremental, Twisted, cryptography, service-identity, PyDispatcher, queuelib, pyOpenSSL, itemadapter, w3lib, cssselect, parsel, jmespath, itemloaders, protego, scrapy\n",
            "Successfully installed Automat-20.2.0 PyDispatcher-2.0.5 PyHamcrest-2.0.2 Twisted-20.3.0 constantly-15.1.0 cryptography-3.4.6 cssselect-1.1.0 hyperlink-21.0.0 incremental-17.5.0 itemadapter-0.2.0 itemloaders-1.0.4 jmespath-0.10.0 parsel-1.6.0 protego-0.1.16 pyOpenSSL-20.0.1 queuelib-1.5.0 scrapy-2.4.1 service-identity-18.1.0 w3lib-1.22.0 zope.interface-5.2.0\n"
          ],
          "name": "stdout"
        }
      ]
    },
    {
      "cell_type": "code",
      "metadata": {
        "colab": {
          "base_uri": "https://localhost:8080/"
        },
        "id": "XYPEP1uRASuO",
        "outputId": "e73dbee9-6828-464e-bce1-c753924dae9c"
      },
      "source": [
        "%cd \"/content/drive/My Drive/Colab Notebooks/\""
      ],
      "execution_count": null,
      "outputs": [
        {
          "output_type": "stream",
          "text": [
            "/content/drive/My Drive/Colab Notebooks\n"
          ],
          "name": "stdout"
        }
      ]
    },
    {
      "cell_type": "code",
      "metadata": {
        "colab": {
          "base_uri": "https://localhost:8080/"
        },
        "id": "rwFSPi4sAWMZ",
        "outputId": "eb5a81dc-c0fa-481a-c917-5c01569eea82"
      },
      "source": [
        "!scrapy startproject savenow_crawler"
      ],
      "execution_count": null,
      "outputs": [
        {
          "output_type": "stream",
          "text": [
            "New Scrapy project 'savenow_crawler', using template directory '/usr/local/lib/python3.7/dist-packages/scrapy/templates/project', created in:\n",
            "    /content/drive/My Drive/Colab Notebooks/savenow_crawler\n",
            "\n",
            "You can start your first spider with:\n",
            "    cd savenow_crawler\n",
            "    scrapy genspider example example.com\n"
          ],
          "name": "stdout"
        }
      ]
    },
    {
      "cell_type": "code",
      "metadata": {
        "colab": {
          "base_uri": "https://localhost:8080/"
        },
        "id": "GVL3r_tMAcw4",
        "outputId": "b956059d-e322-4f78-dff7-d3970aa17560"
      },
      "source": [
        "%cd \"/content/drive/My Drive/Colab Notebooks/savenow_crawler\""
      ],
      "execution_count": null,
      "outputs": [
        {
          "output_type": "stream",
          "text": [
            "/content/drive/My Drive/Colab Notebooks/savenow_crawler\n"
          ],
          "name": "stdout"
        }
      ]
    },
    {
      "cell_type": "code",
      "metadata": {
        "colab": {
          "base_uri": "https://localhost:8080/"
        },
        "id": "r8d01Jl9LA6R",
        "outputId": "48d71176-27b5-4234-84e1-7962aef5c977"
      },
      "source": [
        "!pip install PyPDF2\n"
      ],
      "execution_count": null,
      "outputs": [
        {
          "output_type": "stream",
          "text": [
            "Collecting PyPDF2\n",
            "\u001b[?25l  Downloading https://files.pythonhosted.org/packages/b4/01/68fcc0d43daf4c6bdbc6b33cc3f77bda531c86b174cac56ef0ffdb96faab/PyPDF2-1.26.0.tar.gz (77kB)\n",
            "\r\u001b[K     |████▎                           | 10kB 14.3MB/s eta 0:00:01\r\u001b[K     |████████▌                       | 20kB 12.1MB/s eta 0:00:01\r\u001b[K     |████████████▊                   | 30kB 8.3MB/s eta 0:00:01\r\u001b[K     |█████████████████               | 40kB 7.6MB/s eta 0:00:01\r\u001b[K     |█████████████████████▏          | 51kB 4.4MB/s eta 0:00:01\r\u001b[K     |█████████████████████████▍      | 61kB 4.9MB/s eta 0:00:01\r\u001b[K     |█████████████████████████████▋  | 71kB 5.0MB/s eta 0:00:01\r\u001b[K     |████████████████████████████████| 81kB 3.6MB/s \n",
            "\u001b[?25hBuilding wheels for collected packages: PyPDF2\n",
            "  Building wheel for PyPDF2 (setup.py) ... \u001b[?25l\u001b[?25hdone\n",
            "  Created wheel for PyPDF2: filename=PyPDF2-1.26.0-cp37-none-any.whl size=61085 sha256=53bbac2312ef5fc5f07315ec0b551200fa2b709d869bae6a4ac3b0908eb544f8\n",
            "  Stored in directory: /root/.cache/pip/wheels/53/84/19/35bc977c8bf5f0c23a8a011aa958acd4da4bbd7a229315c1b7\n",
            "Successfully built PyPDF2\n",
            "Installing collected packages: PyPDF2\n",
            "Successfully installed PyPDF2-1.26.0\n"
          ],
          "name": "stdout"
        }
      ]
    },
    {
      "cell_type": "code",
      "metadata": {
        "id": "eEsBDRqcLLiI"
      },
      "source": [
        "import requests"
      ],
      "execution_count": null,
      "outputs": []
    },
    {
      "cell_type": "code",
      "metadata": {
        "colab": {
          "base_uri": "https://localhost:8080/"
        },
        "id": "gzV1VnQ7O-rC",
        "outputId": "ef842732-80ef-4922-fc48-c5fd18abb85e"
      },
      "source": [
        ""
      ],
      "execution_count": null,
      "outputs": [
        {
          "output_type": "stream",
          "text": [
            "/content/drive/My Drive/Colab Notebooks\n"
          ],
          "name": "stdout"
        }
      ]
    },
    {
      "cell_type": "code",
      "metadata": {
        "colab": {
          "base_uri": "https://localhost:8080/"
        },
        "id": "lgbootyJPM5I",
        "outputId": "e21fab3b-e45a-494d-f20d-196b855e9f8c"
      },
      "source": [
        "%cd /content/drive/My Drive/Colab Notebooks/savenow_crawler"
      ],
      "execution_count": 20,
      "outputs": [
        {
          "output_type": "stream",
          "text": [
            "/content/drive/My Drive/Colab Notebooks/savenow_crawler\n"
          ],
          "name": "stdout"
        }
      ]
    },
    {
      "cell_type": "code",
      "metadata": {
        "colab": {
          "base_uri": "https://localhost:8080/"
        },
        "id": "W6BYFszSBTnY",
        "outputId": "4142866f-45c1-4e43-f942-0288ef27d45e"
      },
      "source": [
        "!scrapy crawl basic "
      ],
      "execution_count": 27,
      "outputs": [
        {
          "output_type": "stream",
          "text": [
            "2021-02-25 04:26:31 [scrapy.utils.log] INFO: Scrapy 2.4.1 started (bot: savenow_crawler)\n",
            "2021-02-25 04:26:31 [scrapy.utils.log] INFO: Versions: lxml 4.2.6.0, libxml2 2.9.8, cssselect 1.1.0, parsel 1.6.0, w3lib 1.22.0, Twisted 20.3.0, Python 3.7.10 (default, Feb 20 2021, 21:17:23) - [GCC 7.5.0], pyOpenSSL 20.0.1 (OpenSSL 1.1.1j  16 Feb 2021), cryptography 3.4.6, Platform Linux-4.19.112+-x86_64-with-Ubuntu-18.04-bionic\n",
            "2021-02-25 04:26:31 [scrapy.utils.log] DEBUG: Using reactor: twisted.internet.epollreactor.EPollReactor\n",
            "2021-02-25 04:26:31 [scrapy.crawler] INFO: Overridden settings:\n",
            "{'BOT_NAME': 'savenow_crawler',\n",
            " 'NEWSPIDER_MODULE': 'savenow_crawler.spiders',\n",
            " 'SPIDER_MODULES': ['savenow_crawler.spiders']}\n",
            "2021-02-25 04:26:31 [scrapy.extensions.telnet] INFO: Telnet Password: 3dcc55f4e5bad435\n",
            "2021-02-25 04:26:31 [scrapy.middleware] INFO: Enabled extensions:\n",
            "['scrapy.extensions.corestats.CoreStats',\n",
            " 'scrapy.extensions.telnet.TelnetConsole',\n",
            " 'scrapy.extensions.memusage.MemoryUsage',\n",
            " 'scrapy.extensions.logstats.LogStats']\n",
            "2021-02-25 04:26:31 [scrapy.middleware] INFO: Enabled downloader middlewares:\n",
            "['scrapy.downloadermiddlewares.httpauth.HttpAuthMiddleware',\n",
            " 'scrapy.downloadermiddlewares.downloadtimeout.DownloadTimeoutMiddleware',\n",
            " 'scrapy.downloadermiddlewares.defaultheaders.DefaultHeadersMiddleware',\n",
            " 'scrapy.downloadermiddlewares.useragent.UserAgentMiddleware',\n",
            " 'scrapy.downloadermiddlewares.retry.RetryMiddleware',\n",
            " 'scrapy.downloadermiddlewares.redirect.MetaRefreshMiddleware',\n",
            " 'scrapy.downloadermiddlewares.httpcompression.HttpCompressionMiddleware',\n",
            " 'scrapy.downloadermiddlewares.redirect.RedirectMiddleware',\n",
            " 'scrapy.downloadermiddlewares.cookies.CookiesMiddleware',\n",
            " 'scrapy.downloadermiddlewares.httpproxy.HttpProxyMiddleware',\n",
            " 'scrapy.downloadermiddlewares.stats.DownloaderStats']\n",
            "2021-02-25 04:26:31 [scrapy.middleware] INFO: Enabled spider middlewares:\n",
            "['scrapy.spidermiddlewares.httperror.HttpErrorMiddleware',\n",
            " 'scrapy.spidermiddlewares.offsite.OffsiteMiddleware',\n",
            " 'scrapy.spidermiddlewares.referer.RefererMiddleware',\n",
            " 'scrapy.spidermiddlewares.urllength.UrlLengthMiddleware',\n",
            " 'scrapy.spidermiddlewares.depth.DepthMiddleware']\n",
            "2021-02-25 04:26:31 [scrapy.middleware] INFO: Enabled item pipelines:\n",
            "[]\n",
            "2021-02-25 04:26:31 [scrapy.core.engine] INFO: Spider opened\n",
            "2021-02-25 04:26:31 [scrapy.extensions.logstats] INFO: Crawled 0 pages (at 0 pages/min), scraped 0 items (at 0 items/min)\n",
            "2021-02-25 04:26:31 [scrapy.extensions.telnet] INFO: Telnet console listening on 127.0.0.1:6023\n",
            "2021-02-25 04:26:31 [scrapy.core.engine] DEBUG: Crawled (200) <GET http://www.vietinbankcapital.vn/vi-vn/san-pham-dich-vu/san-pham/504/PRODUCT_INFO/F2> (referer: None)\n",
            "2021-02-25 04:26:31 [scrapy.core.engine] DEBUG: Crawled (200) <GET https://baovietfund.com.vn/san-pham/BVBF> (referer: None)\n",
            "2021-02-25 04:26:31 [scrapy.core.scraper] DEBUG: Scraped from <200 https://baovietfund.com.vn/san-pham/BVBF>\n",
            "{'date': '24/02/2021', 'name': 'BVBF', 'value': '16560'}\n",
            "2021-02-25 04:26:32 [scrapy.core.engine] DEBUG: Crawled (200) <GET https://baovietfund.com.vn/san-pham/BVPF> (referer: None)\n",
            "2021-02-25 04:26:32 [scrapy.core.engine] DEBUG: Crawled (200) <GET http://www.vietinbankcapital.vn/vi-vn//san-pham-dich-vu/san-pham/getdetai/504/PRODUCT_INFO/F2/3242> (referer: http://www.vietinbankcapital.vn/vi-vn/san-pham-dich-vu/san-pham/504/PRODUCT_INFO/F2)\n",
            "2021-02-25 04:26:32 [scrapy.core.engine] DEBUG: Crawled (200) <GET http://www.techcomcapital.com.vn/index.php/category/quan-he-ndt/cong-bo-thong-tin/> (referer: None)\n",
            "2021-02-25 04:26:32 [scrapy.core.scraper] DEBUG: Scraped from <200 https://baovietfund.com.vn/san-pham/BVPF>\n",
            "{'date': '23/02/2021', 'name': 'BVPF', 'value': '13852'}\n",
            "2021-02-25 04:26:32 [scrapy.core.scraper] DEBUG: Scraped from <200 http://www.vietinbankcapital.vn/vi-vn//san-pham-dich-vu/san-pham/getdetai/504/PRODUCT_INFO/F2/3242>\n",
            "{'date': ' 16/2/2021', 'name': 'VTBF', 'value': '11871.33'}\n",
            "2021-02-25 04:26:32 [scrapy.core.engine] DEBUG: Crawled (200) <GET http://www.techcomcapital.com.vn/wp-content/uploads/2021/02/TCBF_BC_Ngay_20210223.xlsx> (referer: http://www.techcomcapital.com.vn/index.php/category/quan-he-ndt/cong-bo-thong-tin/)\n",
            "2021-02-25 04:26:32 [urllib3.connectionpool] DEBUG: Starting new HTTP connection (1): www.techcomcapital.com.vn:80\n",
            "2021-02-25 04:26:32 [urllib3.connectionpool] DEBUG: http://www.techcomcapital.com.vn:80 \"GET /wp-content/uploads/2021/02/TCBF_BC_Ngay_20210223.xlsx HTTP/1.1\" 200 31059\n",
            "2021-02-25 04:26:32 [scrapy.core.scraper] DEBUG: Scraped from <200 http://www.techcomcapital.com.vn/wp-content/uploads/2021/02/TCBF_BC_Ngay_20210223.xlsx>\n",
            "{'date': '24/02/2021', 'name': 'TCBF', 'value': 14790.61}\n",
            "2021-02-25 04:26:34 [scrapy.core.engine] DEBUG: Crawled (200) <GET https://www.ssi.com.vn/ssiam/hieu-qua-dau-tu-cua-quy-ssi-sca> (referer: None)\n",
            "2021-02-25 04:26:34 [scrapy.core.scraper] DEBUG: Scraped from <200 https://www.ssi.com.vn/ssiam/hieu-qua-dau-tu-cua-quy-ssi-sca>\n",
            "{'date': '24/02/2021', 'name': 'SCA', 'value': '23462.63'}\n",
            "2021-02-25 04:26:35 [scrapy.core.engine] DEBUG: Crawled (200) <GET https://dcvfm.com.vn/quy-hoan-doi-danh-muc-etf-vfmvn30/etf-thong-tin-ve-quy/> (referer: None)\n",
            "2021-02-25 04:26:35 [scrapy.core.engine] DEBUG: Crawled (200) <GET https://dcvfm.com.vn/quy-dau-tu-trai-phieu-viet-nam-vfmvfb/vfb-thong-tin-ve-quy-mo/> (referer: None)\n",
            "2021-02-25 04:26:35 [scrapy.core.scraper] DEBUG: Scraped from <200 https://dcvfm.com.vn/quy-hoan-doi-danh-muc-etf-vfmvn30/etf-thong-tin-ve-quy/>\n",
            "{'date': '24/02/2021', 'name': 'EFTVN30', 'value': '19612.85'}\n",
            "2021-02-25 04:26:35 [scrapy.core.engine] DEBUG: Crawled (200) <GET https://dcvfm.com.vn/quy-dau-tu-chung-khoan-viet-nam-vfmvf1/vf1-thong-tin-ve-quy/> (referer: None)\n",
            "[<Selector xpath='(//*[@id=\"fund-pages\"]//div//div[@class=\"element\"])[1]' data='<div class=\"element\">\\n    <table>\\n   ...'>]\n",
            "2021-02-25 04:26:35 [scrapy.core.scraper] DEBUG: Scraped from <200 https://dcvfm.com.vn/quy-dau-tu-trai-phieu-viet-nam-vfmvfb/vfb-thong-tin-ve-quy-mo/>\n",
            "{'date': '18/02/2021', 'name': 'VFMVFB', 'value': '20855.95'}\n",
            "2021-02-25 04:26:36 [scrapy.core.scraper] DEBUG: Scraped from <200 https://dcvfm.com.vn/quy-dau-tu-chung-khoan-viet-nam-vfmvf1/vf1-thong-tin-ve-quy/>\n",
            "{'date': '24/02/2021', 'name': 'VFMVF1', 'value': '54660.33'}\n",
            "2021-02-25 04:26:36 [scrapy.core.engine] DEBUG: Crawled (200) <GET https://ipaam.com.vn/vi/quy-dau-tu/quy-mo-co-phieu-vndaf/bao-cao-nav/> (referer: None)\n",
            "2021-02-25 04:26:39 [scrapy.core.engine] DEBUG: Crawled (200) <GET https://wm.vinacapital.com/quy-dau-tu-trai-phieu-bao-thinh-vff> (referer: None)\n",
            "2021-02-25 04:26:40 [scrapy.core.scraper] DEBUG: Scraped from <200 https://wm.vinacapital.com/quy-dau-tu-trai-phieu-bao-thinh-vff>\n",
            "{'date': '23/02/2021', 'name': 'VFF', 'value': '17910.80'}\n",
            "2021-02-25 04:26:45 [scrapy.core.engine] DEBUG: Crawled (200) <GET https://ipaam.com.vn/wp-content/uploads/2021/02/25.02.21-Bao-cao-NAV-tuan-8.pdf> (referer: https://ipaam.com.vn/vi/quy-dau-tu/quy-mo-co-phieu-vndaf/bao-cao-nav/)\n",
            "2021-02-25 04:26:45 [urllib3.connectionpool] DEBUG: Starting new HTTPS connection (1): ipaam.com.vn:443\n",
            "2021-02-25 04:26:46 [urllib3.connectionpool] DEBUG: https://ipaam.com.vn:443 \"GET /wp-content/uploads/2021/02/25.02.21-Bao-cao-NAV-tuan-8.pdf HTTP/1.1\" 200 1273440\n",
            "2021-02-25 04:26:54 [scrapy.core.scraper] DEBUG: Scraped from <200 https://ipaam.com.vn/wp-content/uploads/2021/02/25.02.21-Bao-cao-NAV-tuan-8.pdf>\n",
            "{'date': '25/02/2021', 'name': 'VNDAF', 'value': '12201.22'}\n",
            "2021-02-25 04:26:54 [scrapy.core.engine] INFO: Closing spider (finished)\n",
            "2021-02-25 04:26:54 [scrapy.statscollectors] INFO: Dumping Scrapy stats:\n",
            "{'downloader/request_bytes': 3923,\n",
            " 'downloader/request_count': 13,\n",
            " 'downloader/request_method_count/GET': 13,\n",
            " 'downloader/response_bytes': 1856086,\n",
            " 'downloader/response_count': 13,\n",
            " 'downloader/response_status_count/200': 13,\n",
            " 'elapsed_time_seconds': 22.833358,\n",
            " 'finish_reason': 'finished',\n",
            " 'finish_time': datetime.datetime(2021, 2, 25, 4, 26, 54, 64582),\n",
            " 'item_scraped_count': 10,\n",
            " 'log_count/DEBUG': 27,\n",
            " 'log_count/INFO': 10,\n",
            " 'memusage/max': 107167744,\n",
            " 'memusage/startup': 107167744,\n",
            " 'request_depth_max': 1,\n",
            " 'response_received_count': 13,\n",
            " 'scheduler/dequeued': 13,\n",
            " 'scheduler/dequeued/memory': 13,\n",
            " 'scheduler/enqueued': 13,\n",
            " 'scheduler/enqueued/memory': 13,\n",
            " 'start_time': datetime.datetime(2021, 2, 25, 4, 26, 31, 231224)}\n",
            "2021-02-25 04:26:54 [scrapy.core.engine] INFO: Spider closed (finished)\n"
          ],
          "name": "stdout"
        }
      ]
    },
    {
      "cell_type": "code",
      "metadata": {
        "id": "aoejPeu6PTRm"
      },
      "source": [
        "%run -i run_spider.py"
      ],
      "execution_count": 44,
      "outputs": []
    },
    {
      "cell_type": "code",
      "metadata": {
        "id": "QgzD_VJqX6Sp"
      },
      "source": [
        "import pandas as pd"
      ],
      "execution_count": null,
      "outputs": []
    },
    {
      "cell_type": "code",
      "metadata": {
        "colab": {
          "base_uri": "https://localhost:8080/",
          "height": 359
        },
        "id": "CxoBHd3nYB-i",
        "outputId": "9d78c03d-48f5-44fe-b4d5-d93d904199d4"
      },
      "source": [
        "%run -i run_spider.py\n",
        "\n",
        "from datetime import datetime\n",
        "today = datetime.today().strftime('%d-%m-%Y')\n",
        "df = pd.read_csv('savenow_' + today + '.csv')\n",
        "df"
      ],
      "execution_count": 46,
      "outputs": [
        {
          "output_type": "execute_result",
          "data": {
            "text/html": [
              "<div>\n",
              "<style scoped>\n",
              "    .dataframe tbody tr th:only-of-type {\n",
              "        vertical-align: middle;\n",
              "    }\n",
              "\n",
              "    .dataframe tbody tr th {\n",
              "        vertical-align: top;\n",
              "    }\n",
              "\n",
              "    .dataframe thead th {\n",
              "        text-align: right;\n",
              "    }\n",
              "</style>\n",
              "<table border=\"1\" class=\"dataframe\">\n",
              "  <thead>\n",
              "    <tr style=\"text-align: right;\">\n",
              "      <th></th>\n",
              "      <th>date</th>\n",
              "      <th>name</th>\n",
              "      <th>value</th>\n",
              "    </tr>\n",
              "  </thead>\n",
              "  <tbody>\n",
              "    <tr>\n",
              "      <th>0</th>\n",
              "      <td>24/02/2021</td>\n",
              "      <td>BVBF</td>\n",
              "      <td>16560.00</td>\n",
              "    </tr>\n",
              "    <tr>\n",
              "      <th>1</th>\n",
              "      <td>23/02/2021</td>\n",
              "      <td>BVPF</td>\n",
              "      <td>13852.00</td>\n",
              "    </tr>\n",
              "    <tr>\n",
              "      <th>2</th>\n",
              "      <td>16/2/2021</td>\n",
              "      <td>VTBF</td>\n",
              "      <td>11871.33</td>\n",
              "    </tr>\n",
              "    <tr>\n",
              "      <th>3</th>\n",
              "      <td>24/02/2021</td>\n",
              "      <td>TCBF</td>\n",
              "      <td>14790.61</td>\n",
              "    </tr>\n",
              "    <tr>\n",
              "      <th>4</th>\n",
              "      <td>24/02/2021</td>\n",
              "      <td>SCA</td>\n",
              "      <td>23462.63</td>\n",
              "    </tr>\n",
              "    <tr>\n",
              "      <th>5</th>\n",
              "      <td>24/02/2021</td>\n",
              "      <td>EFTVN30</td>\n",
              "      <td>19612.85</td>\n",
              "    </tr>\n",
              "    <tr>\n",
              "      <th>6</th>\n",
              "      <td>18/02/2021</td>\n",
              "      <td>VFMVFB</td>\n",
              "      <td>20855.95</td>\n",
              "    </tr>\n",
              "    <tr>\n",
              "      <th>7</th>\n",
              "      <td>24/02/2021</td>\n",
              "      <td>VFMVF1</td>\n",
              "      <td>54660.33</td>\n",
              "    </tr>\n",
              "    <tr>\n",
              "      <th>8</th>\n",
              "      <td>23/02/2021</td>\n",
              "      <td>VFF</td>\n",
              "      <td>17910.80</td>\n",
              "    </tr>\n",
              "    <tr>\n",
              "      <th>9</th>\n",
              "      <td>25/02/2021</td>\n",
              "      <td>VNDAF</td>\n",
              "      <td>12201.22</td>\n",
              "    </tr>\n",
              "  </tbody>\n",
              "</table>\n",
              "</div>"
            ],
            "text/plain": [
              "         date     name     value\n",
              "0  24/02/2021     BVBF  16560.00\n",
              "1  23/02/2021     BVPF  13852.00\n",
              "2   16/2/2021     VTBF  11871.33\n",
              "3  24/02/2021     TCBF  14790.61\n",
              "4  24/02/2021      SCA  23462.63\n",
              "5  24/02/2021  EFTVN30  19612.85\n",
              "6  18/02/2021   VFMVFB  20855.95\n",
              "7  24/02/2021   VFMVF1  54660.33\n",
              "8  23/02/2021      VFF  17910.80\n",
              "9  25/02/2021    VNDAF  12201.22"
            ]
          },
          "metadata": {
            "tags": []
          },
          "execution_count": 46
        }
      ]
    }
  ]
}